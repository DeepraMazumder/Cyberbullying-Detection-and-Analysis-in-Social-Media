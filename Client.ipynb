{
 "cells": [
  {
   "cell_type": "code",
   "execution_count": 1,
   "metadata": {},
   "outputs": [],
   "source": [
    "import sys\n",
    "import os\n",
    "\n",
    "# Import the function\n",
    "from Analysis import analyze_cyberbullying"
   ]
  },
  {
   "cell_type": "code",
   "execution_count": 4,
   "metadata": {},
   "outputs": [
    {
     "name": "stdout",
     "output_type": "stream",
     "text": [
      "INPUT SENTENCE: His son looks like a monkey\n",
      "\n",
      "CATEGORY: Race/Ethnicity\n",
      "TYPE: Identity-based\n",
      "SUGGESTED ALTERNATIVES:\n",
      "1. His son has unique facial features.\n",
      "2. His son is adorable.\n",
      "\n",
      "HARMFUL CONTENT IDENTIFICATION:\n",
      "⚠️ monkey\n",
      "\n",
      "TOTAL WORDS: 6\n",
      "FLAGGED PERCENTAGE: 17% (1 Harmful Word / 6 Total Words)\n",
      "\n",
      "REASON:The sentence uses a demeaning animalistic comparison to describe someone's physical appearance, targeting their race/ethnicity.  This constitutes cyberbullying under the Race/Ethnicity category.\n"
     ]
    }
   ],
   "source": [
    "# Get user input and analyze\n",
    "user_input = input(\"Enter a sentence to classify: \")\n",
    "result = analyze_cyberbullying(user_input)\n",
    "\n",
    "# Combine user input and result for display and saving\n",
    "final_output = f\"INPUT SENTENCE: {user_input}\\n\\n{result}\"\n",
    "\n",
    "# Print the result\n",
    "print(final_output)"
   ]
  },
  {
   "cell_type": "code",
   "execution_count": 3,
   "metadata": {},
   "outputs": [
    {
     "name": "stdout",
     "output_type": "stream",
     "text": [
      "Summary saved successfully at e:\\Cyberbullying-Detection-and-Analysis-in-Social-Media\\Artifacts\\Analysis.txt\n"
     ]
    }
   ],
   "source": [
    "# Define the output file path in ../Artifacts\n",
    "output_dir = os.path.abspath(\"Artifacts\")\n",
    "output_file = os.path.join(output_dir, \"Analysis.txt\")\n",
    "\n",
    "# Save the summary to the specified location\n",
    "with open(output_file, 'w', encoding='utf-8') as f:\n",
    "    f.write(final_output)\n",
    "\n",
    "print(f\"Summary saved successfully at {output_file}\")"
   ]
  }
 ],
 "metadata": {
  "kernelspec": {
   "display_name": "Python 3",
   "language": "python",
   "name": "python3"
  },
  "language_info": {
   "codemirror_mode": {
    "name": "ipython",
    "version": 3
   },
   "file_extension": ".py",
   "mimetype": "text/x-python",
   "name": "python",
   "nbconvert_exporter": "python",
   "pygments_lexer": "ipython3",
   "version": "3.12.2"
  }
 },
 "nbformat": 4,
 "nbformat_minor": 2
}
