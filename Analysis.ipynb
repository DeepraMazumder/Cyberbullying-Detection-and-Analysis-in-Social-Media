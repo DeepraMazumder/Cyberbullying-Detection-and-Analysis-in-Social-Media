{
  "cells": [
    {
      "cell_type": "code",
      "execution_count": 13,
      "metadata": {
        "id": "_E-JjAH0CRS2"
      },
      "outputs": [
        {
          "name": "stderr",
          "output_type": "stream",
          "text": [
            "<>:2: SyntaxWarning: invalid escape sequence '\\*'\n",
            "<>:2: SyntaxWarning: invalid escape sequence '\\*'\n",
            "C:\\Users\\hp\\AppData\\Local\\Temp\\ipykernel_12120\\1744040228.py:2: SyntaxWarning: invalid escape sequence '\\*'\n",
            "  module_code = \"\"\"\n"
          ]
        }
      ],
      "source": [
        "# Create and save the module\n",
        "module_code = \"\"\"\n",
        "from dotenv import load_dotenv\n",
        "import google.generativeai as genai\n",
        "import os\n",
        "import re\n",
        "\n",
        "# Load the API key from .env file\n",
        "load_dotenv()\n",
        "api_key = os.getenv(\"GOOGLE_API_KEY\")\n",
        "\n",
        "# Configure the API key for Google Generative AI\n",
        "genai.configure(api_key=api_key)\n",
        "\n",
        "# Initialize the Generative Model\n",
        "model = genai.GenerativeModel(model_name=\"gemini-1.5-flash\")\n",
        "\n",
        "# Function to count words in the input text\n",
        "def count_words(text):\n",
        "    return len(text.split())\n",
        "\n",
        "# Define the prompt function\n",
        "def analyze_cyberbullying(text):\n",
        "    total_words = count_words(text)\n",
        "    prompt = (\n",
        "        \"Classify the given sentence into one of the following cyberbullying CATEGORIES: Race/Ethnicity, Gender/Sexual, Religion, Harassment, Flaming/Trolling, Dissing.\"\n",
        "        \"IF the CATEGORY is Race/Ethnicity, Gender/Sexual or Religion, then write the TYPE as Identity-based.\"\n",
        "        \"IF the CATEGORY is Harassment, Flaming/Trolling, or Dissing, then write the TYPE as Behavioral-based.\"\n",
        "        \"Write CATEGORY first, then SUB CATEGORY on separate lines.\"\n",
        "        \"If the sentence is not cyberbullying, respond with 'Not cyberbullying'.\"\n",
        "        \"SUGGESTED ALTERNATIVES: Suggest only 2 neutral/safer ways to express the sentence - no yapping.\"\n",
        "        \"HARMFUL CONTENT IDENTIFICATION: Display only the individual harmful words from the sentence as a list, each marked with 🔴. Do not include phrases, explanations, or additional text.\"\n",
        "        f\"TOTAL WORDS: {total_words}\"\n",
        "        \"FLAGGED PERCENTAGE: Display the percentage along with the breakdown like this: 20% (2 Harmful Words / 10 Total Words)\"\n",
        "        \"REASON: Briefly justify why the message was flagged and its cyberbullying category - no yapping.\"\n",
        "        f\"Sentence: {text}\"\n",
        "    )\n",
        "\n",
        "    response = model.generate_content([prompt])\n",
        "    cleaned_output = re.sub(r'\\*\\*|\\*|## |\"', '', response.text)\n",
        "    return cleaned_output.strip()\n",
        "\"\"\""
      ]
    },
    {
      "cell_type": "code",
      "execution_count": null,
      "metadata": {
        "colab": {
          "base_uri": "https://localhost:8080/"
        },
        "id": "ohtPXBdvCbgB",
        "outputId": "635c1de6-7ec3-42ac-cd53-7e2999414a0f"
      },
      "outputs": [
        {
          "name": "stdout",
          "output_type": "stream",
          "text": [
            "Module saved successfully\n"
          ]
        }
      ],
      "source": [
        "# Save the module\n",
        "with open('Analysis.py', 'w', encoding='utf-8') as file:\n",
        "    file.write(module_code)\n",
        "\n",
        "print(\"Module saved successfully\")"
      ]
    }
  ],
  "metadata": {
    "colab": {
      "provenance": []
    },
    "kernelspec": {
      "display_name": "Python 3",
      "name": "python3"
    },
    "language_info": {
      "codemirror_mode": {
        "name": "ipython",
        "version": 3
      },
      "file_extension": ".py",
      "mimetype": "text/x-python",
      "name": "python",
      "nbconvert_exporter": "python",
      "pygments_lexer": "ipython3",
      "version": "3.12.2"
    }
  },
  "nbformat": 4,
  "nbformat_minor": 0
}
