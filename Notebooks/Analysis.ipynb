{
 "cells": [
  {
   "cell_type": "code",
   "execution_count": 1,
   "metadata": {},
   "outputs": [],
   "source": [
    "import sys\n",
    "import os\n",
    "\n",
    "# Add module path (update this if the script is elsewhere)\n",
    "sys.path.append(os.path.abspath(\"../Artifacts\"))\n",
    "\n",
    "# Import the function\n",
    "from Summarisation import analyze_cyberbullying"
   ]
  },
  {
   "cell_type": "code",
   "execution_count": 2,
   "metadata": {},
   "outputs": [
    {
     "name": "stdout",
     "output_type": "stream",
     "text": [
      "INPUT SENTENCE: He is a damn black African\n",
      "\n",
      "CATEGORY: Identity-Based Cyberbullying\n",
      "SUB CATEGORY: Race/Ethnicity related cyberbullying\n",
      "\n",
      "SUGGESTED ALTERNATIVES:\n",
      "1. He is African.\n",
      "2. He is of African descent.\n",
      "\n",
      "HARMFUL CONTENT IDENTIFICATION:\n",
      "🔴 damn\n",
      "🔴 black\n",
      "\n",
      "TOTAL WORDS: 5\n",
      "\n",
      "FLAGGED PERCENTAGE: 40% (2 Harmful Words / 5 Total Words)\n",
      "\n",
      "REASON:\n",
      "The sentence uses a racial slur (damn black) to insult someone based on their race and ethnicity, making it a clear case of identity-based cyberbullying.\n"
     ]
    }
   ],
   "source": [
    "# Get user input and analyze\n",
    "user_input = input(\"Enter a sentence to classify: \")\n",
    "result = analyze_cyberbullying(user_input)\n",
    "\n",
    "# Combine user input and result for display and saving\n",
    "final_output = f\"INPUT SENTENCE: {user_input}\\n\\n{result}\"\n",
    "\n",
    "# Print the result\n",
    "print(final_output)"
   ]
  },
  {
   "cell_type": "code",
   "execution_count": 4,
   "metadata": {},
   "outputs": [
    {
     "name": "stdout",
     "output_type": "stream",
     "text": [
      "Summary saved successfully at e:\\Cyberbullying-Detection-and-Analysis-in-Social-Media\\Artifacts\\Summary.txt\n"
     ]
    }
   ],
   "source": [
    "# Define the output file path in ../Artifacts\n",
    "output_dir = os.path.abspath(\"../Artifacts\")\n",
    "output_file = os.path.join(output_dir, \"Summary.txt\")\n",
    "\n",
    "# Save the summary to the specified location\n",
    "with open(output_file, 'w', encoding='utf-8') as f:\n",
    "    f.write(final_output)\n",
    "\n",
    "print(f\"Summary saved successfully at {output_file}\")"
   ]
  }
 ],
 "metadata": {
  "kernelspec": {
   "display_name": "Python 3",
   "language": "python",
   "name": "python3"
  },
  "language_info": {
   "codemirror_mode": {
    "name": "ipython",
    "version": 3
   },
   "file_extension": ".py",
   "mimetype": "text/x-python",
   "name": "python",
   "nbconvert_exporter": "python",
   "pygments_lexer": "ipython3",
   "version": "3.12.2"
  }
 },
 "nbformat": 4,
 "nbformat_minor": 2
}
